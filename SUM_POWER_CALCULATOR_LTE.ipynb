{
 "cells": [
  {
   "cell_type": "code",
   "execution_count": null,
   "metadata": {},
   "outputs": [],
   "source": [
    "import pandas as pd\n",
    "import numpy as np\n",
    "import glob\n",
    "from natsort import natsorted\n",
    "import os as os"
   ]
  },
  {
   "cell_type": "code",
   "execution_count": null,
   "metadata": {},
   "outputs": [],
   "source": [
    "data = glob.glob('Asia/*csv')"
   ]
  },
  {
   "cell_type": "code",
   "execution_count": null,
   "metadata": {},
   "outputs": [],
   "source": [
    "data"
   ]
  },
  {
   "cell_type": "code",
   "execution_count": null,
   "metadata": {},
   "outputs": [],
   "source": [
    "data_sorted = natsorted(data)"
   ]
  },
  {
   "cell_type": "code",
   "execution_count": null,
   "metadata": {},
   "outputs": [],
   "source": [
    "data_sorted"
   ]
  },
  {
   "cell_type": "code",
   "execution_count": null,
   "metadata": {},
   "outputs": [],
   "source": [
    "len(data_sorted)"
   ]
  },
  {
   "cell_type": "code",
   "execution_count": null,
   "metadata": {},
   "outputs": [],
   "source": [
    "total_power_GSM = []\n",
    "total_power_UMTS = []\n",
    "total_power_LTE = []\n",
    "#zero the power valeus\n",
    "\n",
    "#loop over the files in data variables\n",
    "for i in data_sorted:\n",
    "    file = pd.read_csv(i, engine='python', error_bad_lines=False)\n",
    "    power_GSM = 0\n",
    "    power_UMTS = 0\n",
    "    power_LTE = 0\n",
    "    for j in range(len(file['radio'])):\n",
    "        #radio is the field in each file that represents the techonolgy deployed\n",
    "        power = file['radio'][j]\n",
    "        \n",
    "        if power == 'LTE':\n",
    "            power_LTE =  power_LTE + 200\n",
    " \n",
    "    total_power_LTE.append(power_LTE)\n",
    "print(total_power_LTE)\n"
   ]
  },
  {
   "cell_type": "code",
   "execution_count": null,
   "metadata": {},
   "outputs": [],
   "source": []
  },
  {
   "cell_type": "code",
   "execution_count": null,
   "metadata": {},
   "outputs": [],
   "source": [
    "total_power_LTE = np.array(total_power_LTE)"
   ]
  },
  {
   "cell_type": "code",
   "execution_count": null,
   "metadata": {},
   "outputs": [],
   "source": [
    "len(total_power_LTE)"
   ]
  },
  {
   "cell_type": "code",
   "execution_count": null,
   "metadata": {},
   "outputs": [],
   "source": []
  },
  {
   "cell_type": "code",
   "execution_count": null,
   "metadata": {},
   "outputs": [],
   "source": [
    "total_power_LTE "
   ]
  },
  {
   "cell_type": "code",
   "execution_count": null,
   "metadata": {},
   "outputs": [],
   "source": [
    "centroids = pd.read_csv('Asia/centroids_asia/centroids.csv')"
   ]
  },
  {
   "cell_type": "code",
   "execution_count": null,
   "metadata": {},
   "outputs": [],
   "source": [
    "centroids = centroids.drop(['left','top','right','bottom'], axis=1)"
   ]
  },
  {
   "cell_type": "code",
   "execution_count": null,
   "metadata": {},
   "outputs": [],
   "source": [
    "centroids = centroids.sort_values(by=['id'])"
   ]
  },
  {
   "cell_type": "code",
   "execution_count": null,
   "metadata": {},
   "outputs": [],
   "source": [
    "centroids"
   ]
  },
  {
   "cell_type": "code",
   "execution_count": null,
   "metadata": {},
   "outputs": [],
   "source": [
    "LTE_data = np.column_stack([centroids, total_power_LTE]) "
   ]
  },
  {
   "cell_type": "code",
   "execution_count": null,
   "metadata": {},
   "outputs": [],
   "source": [
    "LTE_data = pd.DataFrame(LTE_data, columns=['id','long', 'lat','power'])"
   ]
  },
  {
   "cell_type": "code",
   "execution_count": null,
   "metadata": {},
   "outputs": [],
   "source": [
    "LTE_data"
   ]
  },
  {
   "cell_type": "code",
   "execution_count": null,
   "metadata": {},
   "outputs": [],
   "source": [
    "LTE_data.to_csv('asia_LTE_data', index=False)"
   ]
  },
  {
   "cell_type": "markdown",
   "metadata": {},
   "source": [
    "## concate"
   ]
  },
  {
   "cell_type": "markdown",
   "metadata": {},
   "source": [
    "Tower_1 = pd.read_csv('europe_LTE_data')\n",
    "Tower_2 = pd.read_csv('africa_LTE_data')\n",
    "Tower_3 = pd.read_csv('sa_LTE_data')\n",
    "Tower_4 = pd.read_csv('na_LTE_data')\n",
    "Tower_5 = pd.read_csv('oc_LTE_data')\n",
    "Tower_1 = pd.read_csv('asia_LTE_data')\n",
    "\n",
    "df = pd.concat(\n",
    "    map(pd.read_csv, ['europe_LTE_data', 'africa_LTE_data','sa_LTE_data','na_LTE_data','oc_LTE_data','asia_LTE_data']), ignore_index=True)\n",
    "#global_tower_data = pd.concat([Tower_1, Tower_2, Tower_3, Tower_4, Tower_5, Tower_6], axis=0, ignore_index=True)"
   ]
  },
  {
   "cell_type": "markdown",
   "metadata": {},
   "source": [
    "df.to_csv('global_LTE_tower_data', index=False)"
   ]
  },
  {
   "cell_type": "markdown",
   "metadata": {},
   "source": [
    "df"
   ]
  },
  {
   "cell_type": "code",
   "execution_count": null,
   "metadata": {},
   "outputs": [],
   "source": []
  }
 ],
 "metadata": {
  "kernelspec": {
   "display_name": "Python 3 (ipykernel)",
   "language": "python",
   "name": "python3"
  },
  "language_info": {
   "codemirror_mode": {
    "name": "ipython",
    "version": 3
   },
   "file_extension": ".py",
   "mimetype": "text/x-python",
   "name": "python",
   "nbconvert_exporter": "python",
   "pygments_lexer": "ipython3",
   "version": "3.7.6"
  }
 },
 "nbformat": 4,
 "nbformat_minor": 4
}
