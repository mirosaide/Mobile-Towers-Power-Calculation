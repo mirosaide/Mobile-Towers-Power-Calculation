{
 "cells": [
  {
   "cell_type": "code",
   "execution_count": null,
   "metadata": {},
   "outputs": [],
   "source": [
    "import numpy as np\n",
    "import matplotlib.pyplot as plt\n",
    "from astropy.visualization import astropy_mpl_style, quantity_support\n",
    "plt.style.use(astropy_mpl_style)\n",
    "quantity_support()\n",
    "import scipy as sp\n",
    "from scipy import stats\n",
    "\n",
    "#packages necessary to find coordinates and make coordinate transformations\n",
    "import astropy.units as u\n",
    "from astropy.time import Time\n",
    "from astropy.coordinates import SkyCoord, EarthLocation, AltAz\n",
    "from astroplan import Observer, FixedTarget\n",
    "import sys"
   ]
  },
  {
   "cell_type": "code",
   "execution_count": null,
   "metadata": {},
   "outputs": [],
   "source": []
  },
  {
   "cell_type": "code",
   "execution_count": null,
   "metadata": {},
   "outputs": [],
   "source": [
    "import pandas as pd\n",
    "location_data = pd.read_csv(\"global_LTE_tower_data\")\n",
    "location_data = location_data.drop(['id'], axis=1)\n",
    "location_data = np.array(location_data)"
   ]
  },
  {
   "cell_type": "code",
   "execution_count": null,
   "metadata": {},
   "outputs": [],
   "source": []
  },
  {
   "cell_type": "code",
   "execution_count": null,
   "metadata": {},
   "outputs": [],
   "source": [
    "target = SkyCoord.from_name(\"HD 95735\")"
   ]
  },
  {
   "cell_type": "code",
   "execution_count": null,
   "metadata": {},
   "outputs": [],
   "source": []
  },
  {
   "cell_type": "code",
   "execution_count": null,
   "metadata": {},
   "outputs": [],
   "source": [
    "midnight = Time(\"2021-9-21 00:00:00\", scale='utc')\n",
    "#time array for 24hors with 1s resolution\n",
    "time_resolution = 1  # seconds\n",
    "obs_duration = 24 * 3600  # seconds\n",
    "delta_midnight = np.linspace(0, int(obs_duration-time_resolution), int(obs_duration/time_resolution)) * u.second\n",
    "times_sept20_to_21 = midnight + delta_midnight\n",
    "\n",
    "Beam_location = EarthLocation(lat=location_data[:,1]*u.deg, lon=location_data[:,0]*u.deg)"
   ]
  },
  {
   "cell_type": "code",
   "execution_count": null,
   "metadata": {},
   "outputs": [],
   "source": [
    "np.save('times_utc.npy', times_sept20_to_21)"
   ]
  },
  {
   "cell_type": "code",
   "execution_count": null,
   "metadata": {},
   "outputs": [],
   "source": [
    "GMST_LTE = times_sept20_to_21.sidereal_time('mean','greenwich')\n",
    "print(GMST_LTE)"
   ]
  },
  {
   "cell_type": "code",
   "execution_count": null,
   "metadata": {},
   "outputs": [],
   "source": [
    "time_gmst = []\n",
    "\n",
    "for i in GMST_LTE:\n",
    "    time_gmst.append(i.hms.h + i.hms.m/60 + i.hms.s/3600)\n",
    "#print(time_gmst) "
   ]
  },
  {
   "cell_type": "code",
   "execution_count": null,
   "metadata": {},
   "outputs": [],
   "source": [
    "np.save('time_gsmt.npy', time_gmst)"
   ]
  },
  {
   "cell_type": "code",
   "execution_count": null,
   "metadata": {},
   "outputs": [],
   "source": [
    "time_gmst = np.load('time_gmst.npy', allow_pickle=True)"
   ]
  },
  {
   "cell_type": "markdown",
   "metadata": {},
   "source": []
  },
  {
   "cell_type": "code",
   "execution_count": null,
   "metadata": {},
   "outputs": [],
   "source": [
    "c = 300000000\n",
    "freq = 800e6\n",
    "wavelenght = c/freq\n",
    "Diameter = 1.5\n",
    "theta = 1.22 * (wavelenght/Diameter)\n",
    "solid = (time_array/theta)*(time_array/theta)\n",
    "\n",
    "\n",
    "total_power = np.zeros(86400)\n",
    "\n",
    "for locs in Beam_location:\n",
    "    frame_1 = AltAz(obstime=times_sept20_to_21, location=locs)\n",
    "    Barnard_1 = target.transform_to(frame_1)\n",
    "    #print(Barnard_1)\n",
    "    #Beam pattern calculation\n",
    "    angle_1 = Barnard_1.alt.deg #Altitude of the star over 24hrs\n",
    "    for power in location_data[:,2]:\n",
    "        total_power = total_power + power*(angle_1/theta)*(angle_1/theta)"
   ]
  },
  {
   "cell_type": "code",
   "execution_count": null,
   "metadata": {},
   "outputs": [],
   "source": [
    "np.save('total_power.npy', total_power)"
   ]
  },
  {
   "cell_type": "markdown",
   "metadata": {},
   "source": []
  },
  {
   "cell_type": "code",
   "execution_count": null,
   "metadata": {},
   "outputs": [],
   "source": [
    "total_power = np.load('total_power.npy', allow_pickle=True)"
   ]
  },
  {
   "cell_type": "code",
   "execution_count": null,
   "metadata": {},
   "outputs": [],
   "source": []
  },
  {
   "cell_type": "code",
   "execution_count": null,
   "metadata": {},
   "outputs": [],
   "source": [
    "indices_time_gmst = np.argsort(time_gmst)"
   ]
  },
  {
   "cell_type": "code",
   "execution_count": null,
   "metadata": {},
   "outputs": [],
   "source": [
    "time_gmst = np.array(time_gmst)\n",
    "print(time_gmst)"
   ]
  },
  {
   "cell_type": "code",
   "execution_count": null,
   "metadata": {},
   "outputs": [],
   "source": [
    "indices_time_gsmt = np.argsort(time_gmst)\n",
    "time_gmst_lte = np.array(time_gmst)\n",
    "\n",
    "time_gsmt_sorted = time_gmst_lte[indices_time_gsmt]\n",
    "total_power_sorted = total_power[indices_time_gsmt]"
   ]
  },
  {
   "cell_type": "code",
   "execution_count": null,
   "metadata": {},
   "outputs": [],
   "source": [
    "np.max(total_power_sorted)"
   ]
  },
  {
   "cell_type": "code",
   "execution_count": null,
   "metadata": {},
   "outputs": [],
   "source": [
    "np.max(time_gsmt_sorted)"
   ]
  },
  {
   "cell_type": "code",
   "execution_count": null,
   "metadata": {},
   "outputs": [],
   "source": [
    "(total_power_sorted)"
   ]
  },
  {
   "cell_type": "code",
   "execution_count": null,
   "metadata": {},
   "outputs": [],
   "source": [
    "plt.figure(figsize=(20,12))\n",
    "style = dict(size=14, color='green')\n",
    "\n",
    "\n",
    "plt.plot(time_gsmt_sorted*u.hour , total_power_sorted,\n",
    "             label=\"HD 95735\",color='darkblue', linewidth=2.5)\n",
    "\n",
    "plt.legend(loc='upper right')\n",
    "\n",
    "\n",
    "plt.annotate('N.A East Coast sets', xy =(2.1,2916589120),\n",
    "             xytext=(0.12, 0.8), textcoords='axes fraction', fontsize=14, color='red',\n",
    "            arrowprops=dict(facecolor='black', shrink=0.06),rotation=90,\n",
    "            horizontalalignment='left', verticalalignment='top')\n",
    "plt.annotate('N.A East Coast rises', xy =(9,1726589120),\n",
    "             xytext=(0.38, 0.55), textcoords='axes fraction', fontsize=14, color='red',\n",
    "            arrowprops=dict(facecolor='black', shrink=0.06),rotation=90,\n",
    "            horizontalalignment='left', verticalalignment='top')\n",
    "\n",
    "plt.annotate('W. Europe Coast sets', xy =(0.57,1486589120),\n",
    "             xytext=(0.1, 0.28), textcoords='axes fraction', fontsize=14, color='red',\n",
    "            arrowprops=dict(facecolor='black', shrink=0.06),rotation=90,\n",
    "            horizontalalignment='left', verticalalignment='top')\n",
    "plt.annotate('W. Europe Coast rises', xy =(20.7,2326589120),\n",
    "             xytext=(0.825, 0.3), textcoords='axes fraction', fontsize=14, color='red',\n",
    "            arrowprops=dict(facecolor='black', shrink=0.06),rotation=90,\n",
    "            horizontalalignment='left', verticalalignment='top')\n",
    "\n",
    "plt.annotate('China East Coast sets', xy =(11,2086589120),\n",
    "             xytext=(0.5, 0.6), textcoords='axes fraction', fontsize=14, color='red',\n",
    "            arrowprops=dict(facecolor='black', shrink=0.06),rotation=90,\n",
    "            horizontalalignment='left', verticalalignment='top')\n",
    "plt.annotate('China East Coast rises', xy =(20,3966589120),\n",
    "             xytext=(0.86, 0.9), textcoords='axes fraction', fontsize=14, color='red',\n",
    "            arrowprops=dict(facecolor='black', shrink=0.06),rotation=90,\n",
    "            horizontalalignment='left', verticalalignment='top')\n",
    "\n",
    "plt.annotate('Japan sets', xy =(9.9,2186589120),\n",
    "             xytext=(0.415, 0.6), textcoords='axes fraction', fontsize=14, color='red',\n",
    "            arrowprops=dict(facecolor='black', shrink=0.06),rotation=90,\n",
    "            horizontalalignment='left', verticalalignment='top')\n",
    "plt.annotate('Japan rises', xy =(18.3,3322589120),\n",
    "             xytext=(0.73, 0.83), textcoords='axes fraction', fontsize=14, color='red',\n",
    "            arrowprops=dict(facecolor='black', shrink=0.06),rotation=90,\n",
    "            horizontalalignment='left', verticalalignment='top')\n",
    "\n",
    "\n",
    "plt.annotate('N.A West Coast sets', xy =(3.3,3116589120),\n",
    "             xytext=(0.165, 0.85), textcoords='axes fraction', fontsize=14, color='red',\n",
    "            arrowprops=dict(facecolor='black', shrink=0.06),rotation=90,\n",
    "            horizontalalignment='left', verticalalignment='top')\n",
    "plt.annotate('N.A West Coast rises', xy =(10.5,2126589120),\n",
    "             xytext=(0.42, 0.27), textcoords='axes fraction', fontsize=14, color='red',\n",
    "            arrowprops=dict(facecolor='black', shrink=0.06),rotation=90,\n",
    "            horizontalalignment='left', verticalalignment='top')\n",
    "\n",
    "plt.annotate('Western Canada Lower Culmination', xy =(7.7,2326589120),\n",
    "             xytext=(0.33, 0.85), textcoords='axes fraction', fontsize=14, color='red',\n",
    "            arrowprops=dict(facecolor='black', shrink=0.06),rotation=90,\n",
    "            horizontalalignment='left', verticalalignment='top')\n",
    "\n",
    "plt.title(\"HD 95735: RA = ${}^h $, Dec = ${}^° $ \".format(11.0558 ,35.96988))\n",
    "#plt.xlim(0*u.hour, 24*u.hour)\n",
    "plt.ylim(600000000, 4800000000)\n",
    "plt.xticks((np.arange(13)*2))\n",
    "#plt.yticks((np.arange(0,5,0.5)*))\n",
    "plt.ticklabel_format(style='plain') \n",
    "plt.xlabel('Greenwich Mean Sidereal Time')\n",
    "plt.ylabel('Total Power [W]')\n",
    "plt.grid(False)\n",
    "plt.savefig('power_structure_LTE_HD95735_new')\n",
    "plt.show()"
   ]
  },
  {
   "cell_type": "code",
   "execution_count": null,
   "metadata": {},
   "outputs": [],
   "source": []
  }
 ],
 "metadata": {
  "kernelspec": {
   "display_name": "Python 3 (ipykernel)",
   "language": "python",
   "name": "python3"
  },
  "language_info": {
   "codemirror_mode": {
    "name": "ipython",
    "version": 3
   },
   "file_extension": ".py",
   "mimetype": "text/x-python",
   "name": "python",
   "nbconvert_exporter": "python",
   "pygments_lexer": "ipython3",
   "version": "3.7.6"
  }
 },
 "nbformat": 4,
 "nbformat_minor": 4
}
